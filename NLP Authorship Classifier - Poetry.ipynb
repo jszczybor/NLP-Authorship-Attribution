{
 "cells": [
  {
   "cell_type": "markdown",
   "id": "8a6eb8b3",
   "metadata": {},
   "source": [
    "# Machine Learning Authorship Attribution with Poetry\n",
    "\n",
    "\n",
    "## 1. Project Topic and Description\n",
    "\n",
    "### Introduction\n",
    "   \n",
    "Often, manuscripts of a certain author might be found without certain authorship established. Therefore, authorship classification based on previous works is often useful. Human experts in textual studies or in the literature of  particular author  propose arguments for and against authorship in cases of unattributed works. In a famous case, *The Federalist Papers*, certain documents were written by several authors under one name, and the question of each essay's authorship has been popular in authorship attribution.\n",
    "\n",
    "Emily Dickinson was a poet whose work was published almost entirely posthumously. What's more, her poems were originally published with some of her most salient features edited out - eccentric use of punctuation and capitalization. That is to say, although Dickinson's poems do now have established authorship, it is easy to conceive of a situation with manuscripts of these poems in which in-depth authorship analysis might have been necessary.\n",
    "\n",
    "In this project I will do Natural Language Processing on poems in order to classify whether they were written by Emily Dickinson or not. \n",
    "\n",
    "That is, I will classify poems as either\n",
    "   - by Emily Dickinson, or\n",
    "   - not by Emily Dickinson\n",
    "\n",
    "To be clear, this is a contrived problem. At the moment, there are no outstanding controversies or ambiguities about the authorship of any poems attributed to Dickinson. Nonethless, it is an exercise that could be useful in a plausibly real situation of a found manuscript without certain authorship.\n",
    "\n",
    "**NLP Problem**: Binary classification of poems based on authorship\n",
    "\n",
    "**NLP solution**: Use document vectors as features for machine learning binary classification\n",
    "\n",
    "I will use a text file containing 356 of her poems, and then sample 356 poems from a dataset of other poets to get a balanced dataset for training.\n",
    "   - https://www.kaggle.com/jenlooper/emily-dickinson-poetry\n",
    "   - https://www.kaggle.com/johnhallman/complete-poetryfoundationorg-dataset"
   ]
  },
  {
   "cell_type": "code",
   "execution_count": 1,
   "id": "cd0e4d6f",
   "metadata": {},
   "outputs": [],
   "source": [
    "import csv\n",
    "import nltk\n",
    "%matplotlib inline\n",
    "import matplotlib.pyplot as plt\n",
    "import re\n",
    "import numpy as np\n",
    "import pandas as pd"
   ]
  },
  {
   "cell_type": "code",
   "execution_count": 2,
   "id": "c1183200",
   "metadata": {},
   "outputs": [],
   "source": [
    "# seed for methods with randomized elements\n",
    "\n",
    "# Emily Dickinson's birthday is 12/10/1830\n",
    "seed = 12101830"
   ]
  },
  {
   "cell_type": "markdown",
   "id": "9965ead6",
   "metadata": {},
   "source": [
    "## 2. Data Collection / Organization (Text Dataset)"
   ]
  },
  {
   "cell_type": "markdown",
   "id": "e5bbfc4e",
   "metadata": {},
   "source": [
    "I will use two datasets, combined into one set for machine learning:\n",
    "   - One of 356 poems all by Emily Dickinson\n",
    "   - A dataset of over 15k poems from the Poetry Foundation. I will sample 356 of these poems to create a balanced set to learn with."
   ]
  },
  {
   "cell_type": "markdown",
   "id": "fbc82058",
   "metadata": {},
   "source": [
    "### Emily Dickinson poems"
   ]
  },
  {
   "cell_type": "code",
   "execution_count": 3,
   "id": "08c5e598",
   "metadata": {},
   "outputs": [
    {
     "name": "stdout",
     "output_type": "stream",
     "text": [
      "356 Emily Dickinson poems loaded\n",
      "\n",
      "Sample poem:\n",
      "\n",
      "The Life we have is very great.\n",
      "The Life that we shall see\n",
      "\"Surpasses it, we know, because\"\n",
      "It is Infinity.\n",
      "But when all Space has been beheld\n",
      "And all Dominion shown\n",
      "The smallest Human Heart's extent\n",
      "Reduces it to none.\n"
     ]
    }
   ],
   "source": [
    "with open('emily_dickinson_titleless.txt', 'r', encoding=\"utf8\") as fin:\n",
    "    poems = fin.read()\n",
    "\n",
    "poems = poems.split(\"\\n\\n\\n\")\n",
    "print(f\"{len(poems)} Emily Dickinson poems loaded\\n\")\n",
    "\n",
    "print(\"Sample poem:\\n\")\n",
    "print(poems[2])"
   ]
  },
  {
   "cell_type": "code",
   "execution_count": 4,
   "id": "35981df7",
   "metadata": {},
   "outputs": [],
   "source": [
    "emily = pd.DataFrame(poems)\n",
    "# target column defined as \"emily\" - ie a poem by Emily Dickinson\n",
    "emily[\"emily\"] = 1\n",
    "emily.rename(columns={0:'poem'}, inplace=True)"
   ]
  },
  {
   "cell_type": "markdown",
   "id": "780712c4",
   "metadata": {},
   "source": [
    "### Other Poets' poems"
   ]
  },
  {
   "cell_type": "code",
   "execution_count": 5,
   "id": "35f6540f",
   "metadata": {},
   "outputs": [],
   "source": [
    "# reading in the Poetry Foundation dataset as a Pandas dataframe\n",
    "df = pd.read_csv('kaggle_poem_dataset.csv')"
   ]
  },
  {
   "cell_type": "code",
   "execution_count": 6,
   "id": "af7f5f68",
   "metadata": {},
   "outputs": [],
   "source": [
    "# dropping Dickinson from this set, because I only want other poets\n",
    "df_notemily = df[df.Author!=\"Emily Dickinson\"]"
   ]
  },
  {
   "cell_type": "markdown",
   "id": "76dbfa7b",
   "metadata": {},
   "source": [
    "I'll only take poems from poets in the top 100 in terms of number of poems in the dataset"
   ]
  },
  {
   "cell_type": "code",
   "execution_count": 7,
   "id": "02f8d391",
   "metadata": {},
   "outputs": [],
   "source": [
    "# list comprehension finding the top 100 poets in terms of number of poems\n",
    "top100=[poet for poet in df_notemily.groupby('Author').Title.count().sort_values(ascending = False)[:100].keys()]\n",
    "\n",
    "# filtering the whole dataframe to keep only rows by authors in the top 100\n",
    "df_top100 = df_notemily[df_notemily.Author.isin(top100)]\n",
    "df_top100 = pd.DataFrame(df_top100)\n",
    "\n",
    "df_top100[\"emily\"] = 0  # setting the target as 0, ie, not by Emily Dickinson\n",
    "\n",
    "# dropping the other columns\n",
    "df_top100.drop(['Author','Title','Poetry Foundation ID', 'Unnamed: 0'], axis=1, inplace=True) \n",
    "#making column names consistent with other df\n",
    "df_top100.rename(columns={\"Content\":\"poem\"}, inplace = True) "
   ]
  },
  {
   "cell_type": "markdown",
   "id": "8c313755",
   "metadata": {},
   "source": [
    "### Final Set to Start Feature Extraction - Balanced Targets"
   ]
  },
  {
   "cell_type": "code",
   "execution_count": 8,
   "id": "c53083ff",
   "metadata": {},
   "outputs": [],
   "source": [
    "# taking a random sample of poems from the top 100 other poets. \n",
    "# 356 to make a balanced dataset with the number of Dickinson poems in the Dickinson set\n",
    "df_otherpoets = df_top100.sample(n=356, random_state=seed)"
   ]
  },
  {
   "cell_type": "code",
   "execution_count": 9,
   "id": "e8ce1826",
   "metadata": {},
   "outputs": [
    {
     "data": {
      "text/html": [
       "<div>\n",
       "<style scoped>\n",
       "    .dataframe tbody tr th:only-of-type {\n",
       "        vertical-align: middle;\n",
       "    }\n",
       "\n",
       "    .dataframe tbody tr th {\n",
       "        vertical-align: top;\n",
       "    }\n",
       "\n",
       "    .dataframe thead th {\n",
       "        text-align: right;\n",
       "    }\n",
       "</style>\n",
       "<table border=\"1\" class=\"dataframe\">\n",
       "  <thead>\n",
       "    <tr style=\"text-align: right;\">\n",
       "      <th></th>\n",
       "      <th>poem</th>\n",
       "      <th>emily</th>\n",
       "    </tr>\n",
       "  </thead>\n",
       "  <tbody>\n",
       "    <tr>\n",
       "      <th>0</th>\n",
       "      <td>Not at Home to Callers\\nSays the Naked Tree --...</td>\n",
       "      <td>1</td>\n",
       "    </tr>\n",
       "    <tr>\n",
       "      <th>1</th>\n",
       "      <td>Which is the best -- the Moon or the Crescent?...</td>\n",
       "      <td>1</td>\n",
       "    </tr>\n",
       "    <tr>\n",
       "      <th>2</th>\n",
       "      <td>The Life we have is very great.\\nThe Life that...</td>\n",
       "      <td>1</td>\n",
       "    </tr>\n",
       "    <tr>\n",
       "      <th>3</th>\n",
       "      <td>Her Sweet turn to leave the Homestead\\nCame th...</td>\n",
       "      <td>1</td>\n",
       "    </tr>\n",
       "    <tr>\n",
       "      <th>4</th>\n",
       "      <td>We should not mind so small a flower --\\nExcep...</td>\n",
       "      <td>1</td>\n",
       "    </tr>\n",
       "    <tr>\n",
       "      <th>...</th>\n",
       "      <td>...</td>\n",
       "      <td>...</td>\n",
       "    </tr>\n",
       "    <tr>\n",
       "      <th>707</th>\n",
       "      <td>So they stood\\nUpon ladders\\nWith pruning hook...</td>\n",
       "      <td>0</td>\n",
       "    </tr>\n",
       "    <tr>\n",
       "      <th>708</th>\n",
       "      <td>Everything contains some\\nsilence. Noise gets\\...</td>\n",
       "      <td>0</td>\n",
       "    </tr>\n",
       "    <tr>\n",
       "      <th>709</th>\n",
       "      <td>Having been tenant long to a rich lord,\\nNot t...</td>\n",
       "      <td>0</td>\n",
       "    </tr>\n",
       "    <tr>\n",
       "      <th>710</th>\n",
       "      <td>Sitteth alle stille and herkneth to me!\\nThe K...</td>\n",
       "      <td>0</td>\n",
       "    </tr>\n",
       "    <tr>\n",
       "      <th>711</th>\n",
       "      <td>The red eyes of rabbits\\naren't sad. No one pa...</td>\n",
       "      <td>0</td>\n",
       "    </tr>\n",
       "  </tbody>\n",
       "</table>\n",
       "<p>712 rows × 2 columns</p>\n",
       "</div>"
      ],
      "text/plain": [
       "                                                  poem  emily\n",
       "0    Not at Home to Callers\\nSays the Naked Tree --...      1\n",
       "1    Which is the best -- the Moon or the Crescent?...      1\n",
       "2    The Life we have is very great.\\nThe Life that...      1\n",
       "3    Her Sweet turn to leave the Homestead\\nCame th...      1\n",
       "4    We should not mind so small a flower --\\nExcep...      1\n",
       "..                                                 ...    ...\n",
       "707  So they stood\\nUpon ladders\\nWith pruning hook...      0\n",
       "708  Everything contains some\\nsilence. Noise gets\\...      0\n",
       "709  Having been tenant long to a rich lord,\\nNot t...      0\n",
       "710  Sitteth alle stille and herkneth to me!\\nThe K...      0\n",
       "711  The red eyes of rabbits\\naren't sad. No one pa...      0\n",
       "\n",
       "[712 rows x 2 columns]"
      ]
     },
     "execution_count": 9,
     "metadata": {},
     "output_type": "execute_result"
    }
   ],
   "source": [
    "# putting them both together\n",
    "poetry = pd.concat([emily, df_otherpoets])\n",
    "poetry = poetry.reset_index().drop(columns=[\"index\"])\n",
    "\n",
    "poetry"
   ]
  },
  {
   "cell_type": "code",
   "execution_count": 10,
   "id": "fab7d198",
   "metadata": {},
   "outputs": [
    {
     "data": {
      "image/png": "[encoded data removed]",
      "text/plain": [
       "<Figure size 432x288 with 1 Axes>"
      ]
     },
     "metadata": {
      "needs_background": "light"
     },
     "output_type": "display_data"
    }
   ],
   "source": [
    "poetry.emily.value_counts().plot(kind = 'bar');"
   ]
  },
  {
   "cell_type": "markdown",
   "id": "e9bc3cf0",
   "metadata": {},
   "source": [
    "From the small sample of the dataset and the bar chart of target values, we see what sort of dataset we have. We have 356 poems by Emily Dickinson (with value of 1 for the column `emily`) and 356 poems randomly sampled from other poets in the Poetry Foundation Dataset (with value of 0 for the column `emily`). \n",
    "\n",
    "We can extract features from the texts of the poems to use in machine learning, and then fit a model to classify a poem as 1 (by Emily Dickinson) or 0 (not by Emily Dickinson). "
   ]
  },
  {
   "cell_type": "markdown",
   "id": "bbf8a097",
   "metadata": {},
   "source": [
    "## 3. Model Development and Selection"
   ]
  },
  {
   "cell_type": "code",
   "execution_count": 11,
   "id": "7bae5f09",
   "metadata": {},
   "outputs": [],
   "source": [
    "# Creating two meta-data columns based on number of stanzas and number of lines in each poem\n",
    "\n",
    "# counting the number of stanzas in each poem with regular expression\n",
    "pat_stanza = re.compile(r\"\\n\\n\")\n",
    "poetry[\"stanzas\"] = poetry.poem.apply(lambda x: len(re.findall(pat_stanza, x))+1)\n",
    "\n",
    "# counting the number of lines in each poem with regular expression\n",
    "pat_line = re.compile(r\"\\n\\n|\\n\")\n",
    "poetry[\"lines\"] = poetry.poem.apply(lambda x: len(re.findall(pat_line, x))+1)"
   ]
  },
  {
   "cell_type": "markdown",
   "id": "f84c793c",
   "metadata": {},
   "source": [
    "### Gensim Model Trained on Poetry Foundation Dataset"
   ]
  },
  {
   "cell_type": "code",
   "execution_count": 12,
   "id": "b628f7ab",
   "metadata": {},
   "outputs": [
    {
     "name": "stdout",
     "output_type": "stream",
     "text": [
      "CPU times: user 2min 58s, sys: 3.64 s, total: 3min 1s\n",
      "Wall time: 1min 13s\n"
     ]
    }
   ],
   "source": [
    "%%time\n",
    "from gensim.models.doc2vec import Doc2Vec, TaggedDocument\n",
    "\n",
    "# training the model with the normal poetry text dataset\n",
    "documents = [TaggedDocument(doc, [i]) for i, doc in enumerate(df.Content)]\n",
    "model1 = Doc2Vec(documents, vector_size=300, window=2, min_count=2, seed=seed)"
   ]
  },
  {
   "cell_type": "code",
   "execution_count": 13,
   "id": "752aff6a",
   "metadata": {},
   "outputs": [],
   "source": [
    "# removing the double dash \"--\" and capitalization from all text to avoid over-training on Dickinson\n",
    "# this double dash and unique capitalization are very salient features of her work\n",
    "\n",
    "def tokenize_nodash(text):\n",
    "    terms = nltk.word_tokenize(text)\n",
    "    terms = [word.lower() for word in terms if word != '--']\n",
    "    return terms"
   ]
  },
  {
   "cell_type": "code",
   "execution_count": 14,
   "id": "1a8129c9",
   "metadata": {},
   "outputs": [],
   "source": [
    "# using the model trained on Poetry Foundation poems to get document vectors from the dataset\n",
    "vecs_found = poetry.poem.map(lambda x: model1.infer_vector(tokenize_nodash(x))) #poetry foundation\n",
    "vecs_found = pd.DataFrame(vecs_found.to_list())"
   ]
  },
  {
   "cell_type": "code",
   "execution_count": 15,
   "id": "295e040a",
   "metadata": {},
   "outputs": [],
   "source": [
    "#combining Document vector features with the 2 meta data features\n",
    "X_found = np.column_stack((np.asarray(vecs_found), np.asarray(poetry[['lines', 'stanzas']])))"
   ]
  },
  {
   "cell_type": "markdown",
   "id": "57451a05",
   "metadata": {},
   "source": [
    "### GridSearch for Model Selection\n",
    "#### Support Vector Machine"
   ]
  },
  {
   "cell_type": "code",
   "execution_count": 16,
   "id": "fef7959b",
   "metadata": {},
   "outputs": [
    {
     "name": "stdout",
     "output_type": "stream",
     "text": [
      "\n",
      "SVC Search Results - Poetry Foundation Vectors with Meta Data\n",
      "0.943798904538341\n",
      "{'C': 500, 'gamma': 'auto', 'kernel': 'rbf'}\n",
      "\n",
      "SVC Search Results - Poetry Foundation Vectors without Meta Data\n",
      "0.9367566510172143\n",
      "{'C': 100, 'gamma': 'auto', 'kernel': 'rbf'}\n",
      "\n",
      "\n",
      "CPU times: user 419 ms, sys: 105 ms, total: 524 ms\n",
      "Wall time: 2min 22s\n"
     ]
    }
   ],
   "source": [
    "%%time\n",
    "# SVC Gridsearch\n",
    "from sklearn.model_selection import GridSearchCV\n",
    "from sklearn.svm import SVC\n",
    "\n",
    "svc = SVC(random_state=seed)\n",
    "\n",
    "\n",
    "param_grid = {'kernel': ['rbf','linear'],\n",
    "              'C': [1, 10, 100, 500],\n",
    "              'gamma' : ['scale', 'auto']}\n",
    "\n",
    "# Set up search\n",
    "searchSVC1 = GridSearchCV(estimator=svc,\n",
    "              param_grid=param_grid,\n",
    "              scoring='accuracy',\n",
    "              cv=10,\n",
    "              n_jobs=2)\n",
    "searchSVC2 = GridSearchCV(estimator=svc,\n",
    "              param_grid=param_grid,\n",
    "              scoring='accuracy',\n",
    "              cv=10,\n",
    "              n_jobs=2)\n",
    "# Run search\n",
    "search_svc_found_meta = searchSVC1.fit(X_found, poetry.emily.values)\n",
    "search_svc_found_nometa = searchSVC2.fit(vecs_found.values, poetry.emily.values)\n",
    "\n",
    "# output search results\n",
    "print(\"\\nSVC Search Results - Poetry Foundation Vectors with Meta Data\")\n",
    "print(search_svc_found_meta.best_score_)\n",
    "print(search_svc_found_meta.best_params_)\n",
    "\n",
    "print(\"\\nSVC Search Results - Poetry Foundation Vectors without Meta Data\")\n",
    "print(search_svc_found_nometa.best_score_)\n",
    "print(search_svc_found_nometa.best_params_)\n",
    "\n",
    "print('\\n')"
   ]
  },
  {
   "cell_type": "markdown",
   "id": "b6a03246",
   "metadata": {},
   "source": [
    "#### Random Forest"
   ]
  },
  {
   "cell_type": "code",
   "execution_count": 17,
   "id": "b35815d1",
   "metadata": {},
   "outputs": [
    {
     "name": "stdout",
     "output_type": "stream",
     "text": [
      "\n",
      "Random Forest Search Results - Poetry Foundation Vectors with Meta Data\n",
      "0.9353677621283255\n",
      "{'max_depth': 6, 'n_estimators': 500}\n",
      "\n",
      "Random Forest Search Results - Poetry Foundation Vectors without Meta Data\n",
      "0.9381846635367763\n",
      "{'max_depth': 4, 'n_estimators': 100}\n",
      "\n",
      "\n",
      "CPU times: user 3.13 s, sys: 127 ms, total: 3.26 s\n",
      "Wall time: 2min 50s\n"
     ]
    }
   ],
   "source": [
    "%%time\n",
    "# Random Forest Gridsearch\n",
    "from sklearn.model_selection import GridSearchCV\n",
    "from sklearn.ensemble import RandomForestClassifier\n",
    "\n",
    "rf = RandomForestClassifier(random_state=seed)\n",
    "\n",
    "param_grid = {'n_estimators': [100,300,500],\n",
    "              'max_depth': [4,6,10,15]}\n",
    "\n",
    "# Set up search\n",
    "searchrf1 = GridSearchCV(estimator=rf,\n",
    "              param_grid=param_grid,\n",
    "              scoring='accuracy',\n",
    "              cv=10,\n",
    "              n_jobs=2)\n",
    "searchrf2 = GridSearchCV(estimator=rf,\n",
    "              param_grid=param_grid,\n",
    "              scoring='accuracy',\n",
    "              cv=10,\n",
    "              n_jobs=2)\n",
    "\n",
    "# Run search\n",
    "search_rf_found_meta = searchrf1.fit(X_found, poetry.emily.values)\n",
    "search_rf_found_nometa = searchrf2.fit(vecs_found.values, poetry.emily.values)\n",
    "\n",
    "# output search results\n",
    "print(\"\\nRandom Forest Search Results - Poetry Foundation Vectors with Meta Data\")\n",
    "print(search_rf_found_meta.best_score_)\n",
    "print(search_rf_found_meta.best_params_)\n",
    "\n",
    "print(\"\\nRandom Forest Search Results - Poetry Foundation Vectors without Meta Data\")\n",
    "print(search_rf_found_nometa.best_score_)\n",
    "print(search_rf_found_nometa.best_params_)\n",
    "\n",
    "print('\\n')"
   ]
  },
  {
   "cell_type": "markdown",
   "id": "6a850ad3",
   "metadata": {},
   "source": [
    "#### Model Selection\n",
    "\n",
    "In the above, I searched multiple hyperparameters across a variety of model possibilities with cross validation, trying combinations of:\n",
    "   - Random Forest classifier\n",
    "   - Support Vector Machine classifier\n",
    "   - with meta data columns (number of stanzas and number of lines)\n",
    "   - without meta data columns\n",
    "\n",
    "The best model was a Support Vector Machine:\n",
    "   - Document vectors trained on Poetry foundation poems dataset\n",
    "   - with meta data\n",
    "   - Support Vector Machine\n",
    "      - Kernel: RBF\n",
    "      - C: 500\n",
    "      - Gamma: auto"
   ]
  },
  {
   "cell_type": "code",
   "execution_count": 18,
   "id": "21b706f1",
   "metadata": {},
   "outputs": [],
   "source": [
    "final_model = SVC(kernel = 'rbf',\n",
    "                  C=500,\n",
    "                  gamma = 'auto',\n",
    "                  random_state=seed)"
   ]
  },
  {
   "cell_type": "markdown",
   "id": "f959f0d0",
   "metadata": {},
   "source": [
    "## 4. Model Evaluation\n",
    "\n",
    "I will now implement the best model on a final 80/20 train/test split on the dataset. "
   ]
  },
  {
   "cell_type": "code",
   "execution_count": 19,
   "id": "e7591d50",
   "metadata": {},
   "outputs": [],
   "source": [
    "from sklearn.model_selection import train_test_split\n",
    "\n",
    "X_train, X_test, y_train, y_test = train_test_split(X_found, poetry.emily,\n",
    "                                     test_size=0.20,\n",
    "                                     stratify=poetry.emily,\n",
    "                                     random_state=seed)\n",
    "\n",
    "final_model.fit(X_train,y_train)\n",
    "preds = final_model.predict(X_test)"
   ]
  },
  {
   "cell_type": "code",
   "execution_count": 20,
   "id": "cb3e9fda",
   "metadata": {
    "scrolled": true
   },
   "outputs": [
    {
     "name": "stdout",
     "output_type": "stream",
     "text": [
      "              precision    recall  f1-score   support\n",
      "\n",
      "           0       0.97      0.92      0.94        72\n",
      "           1       0.92      0.97      0.95        71\n",
      "\n",
      "    accuracy                           0.94       143\n",
      "   macro avg       0.95      0.94      0.94       143\n",
      "weighted avg       0.95      0.94      0.94       143\n",
      "\n"
     ]
    }
   ],
   "source": [
    "from sklearn.metrics import confusion_matrix, classification_report\n",
    "\n",
    "print(classification_report(y_test,preds))"
   ]
  },
  {
   "cell_type": "code",
   "execution_count": 21,
   "id": "2c365023",
   "metadata": {},
   "outputs": [
    {
     "data": {
      "image/png": "[encoded data removed]",
      "text/plain": [
       "<Figure size 432x288 with 2 Axes>"
      ]
     },
     "metadata": {
      "needs_background": "light"
     },
     "output_type": "display_data"
    }
   ],
   "source": [
    "import seaborn as sns\n",
    "import matplotlib.pyplot as plt \n",
    "\n",
    "cm = confusion_matrix(y_test, preds)\n",
    "\n",
    "ax= plt.subplot()\n",
    "sns.heatmap(cm, annot=True, fmt='g', ax=ax); #annot=True to annotate cells,ftm='g' to disable scientific notation\n",
    "\n",
    "# labels, title and ticks\n",
    "ax.set_xlabel('Predicted labels');ax.set_ylabel('True labels'); \n",
    "ax.set_title('Confusion Matrix'); \n",
    "ax.xaxis.set_ticklabels(['not Emily D.', 'Emily D.']); ax.yaxis.set_ticklabels(['not Emily D.', 'Emily D']);\n",
    "\n",
    "# https://stackoverflow.com/questions/19233771/sklearn-plot-confusion-matrix-with-labels"
   ]
  },
  {
   "cell_type": "markdown",
   "id": "db6c7b44",
   "metadata": {},
   "source": [
    "## 5. Conclusions\n",
    "\n",
    "In this project I used document vectors as machine learning features to classify poems by binary authorship. I achieved an accuracy rate of 94%. In the testing, \n",
    "   - Only 2 out of 71 poems actually by Emily Dickinson were incorrectly classifed. \n",
    "   - 6 out of 72 poems by other authors were incorrectly  classified as by her. \n",
    "   \n",
    "This demonstrated an effective outline for a method to use supervised machine learning to determine poetry authorship. \n",
    "\n",
    "Future work could further develop this outline by attempting other methods to improve accuracy, like averaged word vectors from massive corpora, neural networks for classification, or features from state-of-the-art sentence transformers instead of Doc2Vec document vectors. Moreover, further work could expand the problem question to address authorship for several poets at once."
   ]
  }
 ],
 "metadata": {
  "kernelspec": {
   "display_name": "Python 3",
   "language": "python",
   "name": "python3"
  },
  "language_info": {
   "codemirror_mode": {
    "name": "ipython",
    "version": 3
   },
   "file_extension": ".py",
   "mimetype": "text/x-python",
   "name": "python",
   "nbconvert_exporter": "python",
   "pygments_lexer": "ipython3",
   "version": "3.8.12"
  }
 },
 "nbformat": 4,
 "nbformat_minor": 5
}
